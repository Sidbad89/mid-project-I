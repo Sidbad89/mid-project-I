{
 "cells": [
  {
   "cell_type": "markdown",
   "id": "5f8e85c4",
   "metadata": {},
   "source": [
    "Import the required libraries and load the training and testing dataset"
   ]
  },
  {
   "cell_type": "code",
   "execution_count": null,
   "id": "d3f807e4",
   "metadata": {},
   "outputs": [],
   "source": [
    "import pandas as pd\n",
    "import numpy as np\n",
    "import matplotlib.pyplot as plt\n",
    "import sklearn\n",
    "import seaborn as sns"
   ]
  },
  {
   "cell_type": "code",
   "execution_count": 2,
   "id": "aa667e3f",
   "metadata": {},
   "outputs": [
    {
     "name": "stdout",
     "output_type": "stream",
     "text": [
      "<class 'pandas.core.frame.DataFrame'>\n",
      "RangeIndex: 10886 entries, 0 to 10885\n",
      "Data columns (total 10 columns):\n",
      " #   Column         Non-Null Count  Dtype  \n",
      "---  ------         --------------  -----  \n",
      " 0   datetime       10886 non-null  object \n",
      " 1   season         10886 non-null  object \n",
      " 2   holiday        10886 non-null  int64  \n",
      " 3   workingday     10886 non-null  int64  \n",
      " 4   weather        10886 non-null  object \n",
      " 5   temp           10886 non-null  float64\n",
      " 6   atemp          10886 non-null  float64\n",
      " 7   humidity       10886 non-null  int64  \n",
      " 8   windspeed      10886 non-null  float64\n",
      " 9   total_booking  10886 non-null  int64  \n",
      "dtypes: float64(3), int64(4), object(3)\n",
      "memory usage: 850.6+ KB\n",
      "<class 'pandas.core.frame.DataFrame'>\n",
      "RangeIndex: 10886 entries, 0 to 10885\n",
      "Data columns (total 10 columns):\n",
      " #   Column         Non-Null Count  Dtype  \n",
      "---  ------         --------------  -----  \n",
      " 0   datetime       10886 non-null  object \n",
      " 1   season         10886 non-null  object \n",
      " 2   holiday        10886 non-null  int64  \n",
      " 3   workingday     10886 non-null  int64  \n",
      " 4   weather        10886 non-null  object \n",
      " 5   temp           10886 non-null  float64\n",
      " 6   atemp          10886 non-null  float64\n",
      " 7   humidity       10886 non-null  int64  \n",
      " 8   windspeed      10886 non-null  float64\n",
      " 9   total_booking  10886 non-null  int64  \n",
      "dtypes: float64(3), int64(4), object(3)\n",
      "memory usage: 850.6+ KB\n",
      "<class 'pandas.core.frame.DataFrame'>\n",
      "RangeIndex: 10886 entries, 0 to 10885\n",
      "Data columns (total 10 columns):\n",
      " #   Column         Non-Null Count  Dtype  \n",
      "---  ------         --------------  -----  \n",
      " 0   datetime       10886 non-null  object \n",
      " 1   season         10886 non-null  object \n",
      " 2   holiday        10886 non-null  int64  \n",
      " 3   workingday     10886 non-null  int64  \n",
      " 4   weather        10886 non-null  object \n",
      " 5   temp           10886 non-null  float64\n",
      " 6   atemp          10886 non-null  float64\n",
      " 7   humidity       10886 non-null  int64  \n",
      " 8   windspeed      10886 non-null  float64\n",
      " 9   total_booking  10886 non-null  int64  \n",
      "dtypes: float64(3), int64(4), object(3)\n",
      "memory usage: 850.6+ KB\n",
      "<class 'pandas.core.frame.DataFrame'>\n",
      "RangeIndex: 10886 entries, 0 to 10885\n",
      "Data columns (total 10 columns):\n",
      " #   Column         Non-Null Count  Dtype  \n",
      "---  ------         --------------  -----  \n",
      " 0   datetime       10886 non-null  object \n",
      " 1   season         10886 non-null  object \n",
      " 2   holiday        10886 non-null  int64  \n",
      " 3   workingday     10886 non-null  int64  \n",
      " 4   weather        10886 non-null  object \n",
      " 5   temp           10886 non-null  float64\n",
      " 6   atemp          10886 non-null  float64\n",
      " 7   humidity       10886 non-null  int64  \n",
      " 8   windspeed      10886 non-null  float64\n",
      " 9   total_booking  10886 non-null  int64  \n",
      "dtypes: float64(3), int64(4), object(3)\n",
      "memory usage: 850.6+ KB\n",
      "<class 'pandas.core.frame.DataFrame'>\n",
      "RangeIndex: 10886 entries, 0 to 10885\n",
      "Data columns (total 10 columns):\n",
      " #   Column         Non-Null Count  Dtype  \n",
      "---  ------         --------------  -----  \n",
      " 0   datetime       10886 non-null  object \n",
      " 1   season         10886 non-null  object \n",
      " 2   holiday        10886 non-null  int64  \n",
      " 3   workingday     10886 non-null  int64  \n",
      " 4   weather        10886 non-null  object \n",
      " 5   temp           10886 non-null  float64\n",
      " 6   atemp          10886 non-null  float64\n",
      " 7   humidity       10886 non-null  int64  \n",
      " 8   windspeed      10886 non-null  float64\n",
      " 9   total_booking  10886 non-null  int64  \n",
      "dtypes: float64(3), int64(4), object(3)\n",
      "memory usage: 850.6+ KB\n",
      "<class 'pandas.core.frame.DataFrame'>\n",
      "RangeIndex: 10886 entries, 0 to 10885\n",
      "Data columns (total 10 columns):\n",
      " #   Column         Non-Null Count  Dtype  \n",
      "---  ------         --------------  -----  \n",
      " 0   datetime       10886 non-null  object \n",
      " 1   season         10886 non-null  object \n",
      " 2   holiday        10886 non-null  int64  \n",
      " 3   workingday     10886 non-null  int64  \n",
      " 4   weather        10886 non-null  object \n",
      " 5   temp           10886 non-null  float64\n",
      " 6   atemp          10886 non-null  float64\n",
      " 7   humidity       10886 non-null  int64  \n",
      " 8   windspeed      10886 non-null  float64\n",
      " 9   total_booking  10886 non-null  int64  \n",
      "dtypes: float64(3), int64(4), object(3)\n",
      "memory usage: 850.6+ KB\n",
      "<class 'pandas.core.frame.DataFrame'>\n",
      "RangeIndex: 10886 entries, 0 to 10885\n",
      "Data columns (total 10 columns):\n",
      " #   Column         Non-Null Count  Dtype  \n",
      "---  ------         --------------  -----  \n",
      " 0   datetime       10886 non-null  object \n",
      " 1   season         10886 non-null  object \n",
      " 2   holiday        10886 non-null  int64  \n",
      " 3   workingday     10886 non-null  int64  \n",
      " 4   weather        10886 non-null  object \n",
      " 5   temp           10886 non-null  float64\n",
      " 6   atemp          10886 non-null  float64\n",
      " 7   humidity       10886 non-null  int64  \n",
      " 8   windspeed      10886 non-null  float64\n",
      " 9   total_booking  10886 non-null  int64  \n",
      "dtypes: float64(3), int64(4), object(3)\n",
      "memory usage: 850.6+ KB\n",
      "<class 'pandas.core.frame.DataFrame'>\n",
      "RangeIndex: 10886 entries, 0 to 10885\n",
      "Data columns (total 10 columns):\n",
      " #   Column         Non-Null Count  Dtype  \n",
      "---  ------         --------------  -----  \n",
      " 0   datetime       10886 non-null  object \n",
      " 1   season         10886 non-null  object \n",
      " 2   holiday        10886 non-null  int64  \n",
      " 3   workingday     10886 non-null  int64  \n",
      " 4   weather        10886 non-null  object \n",
      " 5   temp           10886 non-null  float64\n",
      " 6   atemp          10886 non-null  float64\n",
      " 7   humidity       10886 non-null  int64  \n",
      " 8   windspeed      10886 non-null  float64\n",
      " 9   total_booking  10886 non-null  int64  \n",
      "dtypes: float64(3), int64(4), object(3)\n",
      "memory usage: 850.6+ KB\n",
      "<class 'pandas.core.frame.DataFrame'>\n",
      "RangeIndex: 10886 entries, 0 to 10885\n",
      "Data columns (total 10 columns):\n",
      " #   Column         Non-Null Count  Dtype  \n",
      "---  ------         --------------  -----  \n",
      " 0   datetime       10886 non-null  object \n",
      " 1   season         10886 non-null  object \n",
      " 2   holiday        10886 non-null  int64  \n",
      " 3   workingday     10886 non-null  int64  \n",
      " 4   weather        10886 non-null  object \n",
      " 5   temp           10886 non-null  float64\n",
      " 6   atemp          10886 non-null  float64\n",
      " 7   humidity       10886 non-null  int64  \n",
      " 8   windspeed      10886 non-null  float64\n",
      " 9   total_booking  10886 non-null  int64  \n",
      "dtypes: float64(3), int64(4), object(3)\n",
      "memory usage: 850.6+ KB\n",
      "<class 'pandas.core.frame.DataFrame'>\n",
      "RangeIndex: 10886 entries, 0 to 10885\n",
      "Data columns (total 10 columns):\n",
      " #   Column         Non-Null Count  Dtype  \n",
      "---  ------         --------------  -----  \n",
      " 0   datetime       10886 non-null  object \n",
      " 1   season         10886 non-null  object \n",
      " 2   holiday        10886 non-null  int64  \n",
      " 3   workingday     10886 non-null  int64  \n",
      " 4   weather        10886 non-null  object \n",
      " 5   temp           10886 non-null  float64\n",
      " 6   atemp          10886 non-null  float64\n",
      " 7   humidity       10886 non-null  int64  \n",
      " 8   windspeed      10886 non-null  float64\n",
      " 9   total_booking  10886 non-null  int64  \n",
      "dtypes: float64(3), int64(4), object(3)\n",
      "memory usage: 850.6+ KB\n"
     ]
    }
   ],
   "source": [
    "df_train=pd.read_csv('train.csv')\n",
    "df_train.shape\n",
    "for column in list(df_train.columns):\n",
    "    df_train.info()    "
   ]
  },
  {
   "cell_type": "markdown",
   "id": "b2a13f93",
   "metadata": {},
   "source": [
    "Analyze the dataset & Perform Feature Engineering"
   ]
  },
  {
   "cell_type": "code",
   "execution_count": 3,
   "id": "0374282e",
   "metadata": {},
   "outputs": [
    {
     "name": "stdout",
     "output_type": "stream",
     "text": [
      "datetime         0\n",
      "season           0\n",
      "holiday          0\n",
      "workingday       0\n",
      "weather          0\n",
      "temp             0\n",
      "atemp            0\n",
      "humidity         0\n",
      "windspeed        0\n",
      "total_booking    0\n",
      "dtype: int64\n",
      "(10886, 10)\n"
     ]
    }
   ],
   "source": [
    "print (df_train.isnull().sum())\n",
    "print (df_train.shape)"
   ]
  },
  {
   "cell_type": "code",
   "execution_count": 4,
   "id": "74ea839c",
   "metadata": {},
   "outputs": [],
   "source": [
    "df_train['date'] = pd.to_datetime(df_train['datetime']).dt.date\n",
    "df_train['time'] = pd.to_datetime(df_train['datetime']).dt.time\n",
    "df_train['hour'] = pd.to_datetime(df_train['datetime']).dt.hour\n",
    "df_train['month'] = pd.to_datetime(df_train['datetime']).dt.month\n",
    "df_train['weekday'] = pd.to_datetime(df_train['datetime']).dt.weekday"
   ]
  },
  {
   "cell_type": "code",
   "execution_count": 5,
   "id": "3f34d37e",
   "metadata": {},
   "outputs": [
    {
     "name": "stdout",
     "output_type": "stream",
     "text": [
      "<class 'pandas.core.frame.DataFrame'>\n",
      "RangeIndex: 10886 entries, 0 to 10885\n",
      "Data columns (total 15 columns):\n",
      " #   Column         Non-Null Count  Dtype   \n",
      "---  ------         --------------  -----   \n",
      " 0   datetime       10886 non-null  object  \n",
      " 1   season         10886 non-null  category\n",
      " 2   holiday        10886 non-null  category\n",
      " 3   workingday     10886 non-null  category\n",
      " 4   weather        10886 non-null  category\n",
      " 5   temp           10886 non-null  float64 \n",
      " 6   atemp          10886 non-null  float64 \n",
      " 7   humidity       10886 non-null  int64   \n",
      " 8   windspeed      10886 non-null  float64 \n",
      " 9   total_booking  10886 non-null  int64   \n",
      " 10  date           10886 non-null  object  \n",
      " 11  time           10886 non-null  object  \n",
      " 12  hour           10886 non-null  int64   \n",
      " 13  month          10886 non-null  int64   \n",
      " 14  weekday        10886 non-null  int64   \n",
      "dtypes: category(4), float64(3), int64(5), object(3)\n",
      "memory usage: 978.8+ KB\n",
      "<class 'pandas.core.frame.DataFrame'>\n",
      "RangeIndex: 10886 entries, 0 to 10885\n",
      "Data columns (total 15 columns):\n",
      " #   Column         Non-Null Count  Dtype   \n",
      "---  ------         --------------  -----   \n",
      " 0   datetime       10886 non-null  object  \n",
      " 1   season         10886 non-null  category\n",
      " 2   holiday        10886 non-null  category\n",
      " 3   workingday     10886 non-null  category\n",
      " 4   weather        10886 non-null  category\n",
      " 5   temp           10886 non-null  float64 \n",
      " 6   atemp          10886 non-null  float64 \n",
      " 7   humidity       10886 non-null  int64   \n",
      " 8   windspeed      10886 non-null  float64 \n",
      " 9   total_booking  10886 non-null  int64   \n",
      " 10  date           10886 non-null  object  \n",
      " 11  time           10886 non-null  object  \n",
      " 12  hour           10886 non-null  int64   \n",
      " 13  month          10886 non-null  int64   \n",
      " 14  weekday        10886 non-null  int64   \n",
      "dtypes: category(4), float64(3), int64(5), object(3)\n",
      "memory usage: 978.8+ KB\n",
      "<class 'pandas.core.frame.DataFrame'>\n",
      "RangeIndex: 10886 entries, 0 to 10885\n",
      "Data columns (total 15 columns):\n",
      " #   Column         Non-Null Count  Dtype   \n",
      "---  ------         --------------  -----   \n",
      " 0   datetime       10886 non-null  object  \n",
      " 1   season         10886 non-null  category\n",
      " 2   holiday        10886 non-null  category\n",
      " 3   workingday     10886 non-null  category\n",
      " 4   weather        10886 non-null  category\n",
      " 5   temp           10886 non-null  float64 \n",
      " 6   atemp          10886 non-null  float64 \n",
      " 7   humidity       10886 non-null  int64   \n",
      " 8   windspeed      10886 non-null  float64 \n",
      " 9   total_booking  10886 non-null  int64   \n",
      " 10  date           10886 non-null  object  \n",
      " 11  time           10886 non-null  object  \n",
      " 12  hour           10886 non-null  int64   \n",
      " 13  month          10886 non-null  int64   \n",
      " 14  weekday        10886 non-null  int64   \n",
      "dtypes: category(4), float64(3), int64(5), object(3)\n",
      "memory usage: 978.8+ KB\n",
      "<class 'pandas.core.frame.DataFrame'>\n",
      "RangeIndex: 10886 entries, 0 to 10885\n",
      "Data columns (total 15 columns):\n",
      " #   Column         Non-Null Count  Dtype   \n",
      "---  ------         --------------  -----   \n",
      " 0   datetime       10886 non-null  object  \n",
      " 1   season         10886 non-null  category\n",
      " 2   holiday        10886 non-null  category\n",
      " 3   workingday     10886 non-null  category\n",
      " 4   weather        10886 non-null  category\n",
      " 5   temp           10886 non-null  float64 \n",
      " 6   atemp          10886 non-null  float64 \n",
      " 7   humidity       10886 non-null  int64   \n",
      " 8   windspeed      10886 non-null  float64 \n",
      " 9   total_booking  10886 non-null  int64   \n",
      " 10  date           10886 non-null  object  \n",
      " 11  time           10886 non-null  object  \n",
      " 12  hour           10886 non-null  int64   \n",
      " 13  month          10886 non-null  int64   \n",
      " 14  weekday        10886 non-null  int64   \n",
      "dtypes: category(4), float64(3), int64(5), object(3)\n",
      "memory usage: 978.8+ KB\n",
      "<class 'pandas.core.frame.DataFrame'>\n",
      "RangeIndex: 10886 entries, 0 to 10885\n",
      "Data columns (total 15 columns):\n",
      " #   Column         Non-Null Count  Dtype   \n",
      "---  ------         --------------  -----   \n",
      " 0   datetime       10886 non-null  object  \n",
      " 1   season         10886 non-null  category\n",
      " 2   holiday        10886 non-null  category\n",
      " 3   workingday     10886 non-null  category\n",
      " 4   weather        10886 non-null  category\n",
      " 5   temp           10886 non-null  float64 \n",
      " 6   atemp          10886 non-null  float64 \n",
      " 7   humidity       10886 non-null  int64   \n",
      " 8   windspeed      10886 non-null  float64 \n",
      " 9   total_booking  10886 non-null  int64   \n",
      " 10  date           10886 non-null  object  \n",
      " 11  time           10886 non-null  object  \n",
      " 12  hour           10886 non-null  int64   \n",
      " 13  month          10886 non-null  int64   \n",
      " 14  weekday        10886 non-null  int64   \n",
      "dtypes: category(4), float64(3), int64(5), object(3)\n",
      "memory usage: 978.8+ KB\n",
      "<class 'pandas.core.frame.DataFrame'>\n",
      "RangeIndex: 10886 entries, 0 to 10885\n",
      "Data columns (total 15 columns):\n",
      " #   Column         Non-Null Count  Dtype   \n",
      "---  ------         --------------  -----   \n",
      " 0   datetime       10886 non-null  object  \n",
      " 1   season         10886 non-null  category\n",
      " 2   holiday        10886 non-null  category\n",
      " 3   workingday     10886 non-null  category\n",
      " 4   weather        10886 non-null  category\n",
      " 5   temp           10886 non-null  float64 \n",
      " 6   atemp          10886 non-null  float64 \n",
      " 7   humidity       10886 non-null  int64   \n",
      " 8   windspeed      10886 non-null  float64 \n",
      " 9   total_booking  10886 non-null  int64   \n",
      " 10  date           10886 non-null  object  \n",
      " 11  time           10886 non-null  object  \n",
      " 12  hour           10886 non-null  int64   \n",
      " 13  month          10886 non-null  int64   \n",
      " 14  weekday        10886 non-null  int64   \n",
      "dtypes: category(4), float64(3), int64(5), object(3)\n",
      "memory usage: 978.8+ KB\n",
      "<class 'pandas.core.frame.DataFrame'>\n",
      "RangeIndex: 10886 entries, 0 to 10885\n",
      "Data columns (total 15 columns):\n",
      " #   Column         Non-Null Count  Dtype   \n",
      "---  ------         --------------  -----   \n",
      " 0   datetime       10886 non-null  object  \n",
      " 1   season         10886 non-null  category\n",
      " 2   holiday        10886 non-null  category\n",
      " 3   workingday     10886 non-null  category\n",
      " 4   weather        10886 non-null  category\n",
      " 5   temp           10886 non-null  float64 \n",
      " 6   atemp          10886 non-null  float64 \n",
      " 7   humidity       10886 non-null  int64   \n",
      " 8   windspeed      10886 non-null  float64 \n",
      " 9   total_booking  10886 non-null  int64   \n",
      " 10  date           10886 non-null  object  \n",
      " 11  time           10886 non-null  object  \n",
      " 12  hour           10886 non-null  int64   \n",
      " 13  month          10886 non-null  int64   \n",
      " 14  weekday        10886 non-null  int64   \n",
      "dtypes: category(4), float64(3), int64(5), object(3)\n",
      "memory usage: 978.8+ KB\n",
      "<class 'pandas.core.frame.DataFrame'>\n",
      "RangeIndex: 10886 entries, 0 to 10885\n",
      "Data columns (total 15 columns):\n",
      " #   Column         Non-Null Count  Dtype   \n",
      "---  ------         --------------  -----   \n",
      " 0   datetime       10886 non-null  object  \n",
      " 1   season         10886 non-null  category\n",
      " 2   holiday        10886 non-null  category\n",
      " 3   workingday     10886 non-null  category\n",
      " 4   weather        10886 non-null  category\n",
      " 5   temp           10886 non-null  float64 \n",
      " 6   atemp          10886 non-null  float64 \n",
      " 7   humidity       10886 non-null  int64   \n",
      " 8   windspeed      10886 non-null  float64 \n",
      " 9   total_booking  10886 non-null  int64   \n",
      " 10  date           10886 non-null  object  \n",
      " 11  time           10886 non-null  object  \n",
      " 12  hour           10886 non-null  int64   \n",
      " 13  month          10886 non-null  int64   \n",
      " 14  weekday        10886 non-null  int64   \n",
      "dtypes: category(4), float64(3), int64(5), object(3)\n",
      "memory usage: 978.8+ KB\n",
      "<class 'pandas.core.frame.DataFrame'>\n",
      "RangeIndex: 10886 entries, 0 to 10885\n",
      "Data columns (total 15 columns):\n",
      " #   Column         Non-Null Count  Dtype   \n",
      "---  ------         --------------  -----   \n",
      " 0   datetime       10886 non-null  object  \n",
      " 1   season         10886 non-null  category\n",
      " 2   holiday        10886 non-null  category\n",
      " 3   workingday     10886 non-null  category\n",
      " 4   weather        10886 non-null  category\n",
      " 5   temp           10886 non-null  float64 \n",
      " 6   atemp          10886 non-null  float64 \n",
      " 7   humidity       10886 non-null  int64   \n",
      " 8   windspeed      10886 non-null  float64 \n",
      " 9   total_booking  10886 non-null  int64   \n",
      " 10  date           10886 non-null  object  \n",
      " 11  time           10886 non-null  object  \n",
      " 12  hour           10886 non-null  int64   \n",
      " 13  month          10886 non-null  int64   \n",
      " 14  weekday        10886 non-null  int64   \n",
      "dtypes: category(4), float64(3), int64(5), object(3)\n",
      "memory usage: 978.8+ KB\n",
      "<class 'pandas.core.frame.DataFrame'>\n",
      "RangeIndex: 10886 entries, 0 to 10885\n",
      "Data columns (total 15 columns):\n",
      " #   Column         Non-Null Count  Dtype   \n",
      "---  ------         --------------  -----   \n",
      " 0   datetime       10886 non-null  object  \n",
      " 1   season         10886 non-null  category\n",
      " 2   holiday        10886 non-null  category\n",
      " 3   workingday     10886 non-null  category\n",
      " 4   weather        10886 non-null  category\n",
      " 5   temp           10886 non-null  float64 \n",
      " 6   atemp          10886 non-null  float64 \n",
      " 7   humidity       10886 non-null  int64   \n",
      " 8   windspeed      10886 non-null  float64 \n",
      " 9   total_booking  10886 non-null  int64   \n",
      " 10  date           10886 non-null  object  \n",
      " 11  time           10886 non-null  object  \n",
      " 12  hour           10886 non-null  int64   \n",
      " 13  month          10886 non-null  int64   \n",
      " 14  weekday        10886 non-null  int64   \n",
      "dtypes: category(4), float64(3), int64(5), object(3)\n",
      "memory usage: 978.8+ KB\n",
      "<class 'pandas.core.frame.DataFrame'>\n",
      "RangeIndex: 10886 entries, 0 to 10885\n",
      "Data columns (total 15 columns):\n",
      " #   Column         Non-Null Count  Dtype   \n",
      "---  ------         --------------  -----   \n",
      " 0   datetime       10886 non-null  object  \n",
      " 1   season         10886 non-null  category\n",
      " 2   holiday        10886 non-null  category\n",
      " 3   workingday     10886 non-null  category\n",
      " 4   weather        10886 non-null  category\n",
      " 5   temp           10886 non-null  float64 \n",
      " 6   atemp          10886 non-null  float64 \n",
      " 7   humidity       10886 non-null  int64   \n",
      " 8   windspeed      10886 non-null  float64 \n",
      " 9   total_booking  10886 non-null  int64   \n",
      " 10  date           10886 non-null  object  \n",
      " 11  time           10886 non-null  object  \n",
      " 12  hour           10886 non-null  int64   \n",
      " 13  month          10886 non-null  int64   \n",
      " 14  weekday        10886 non-null  int64   \n",
      "dtypes: category(4), float64(3), int64(5), object(3)\n",
      "memory usage: 978.8+ KB\n",
      "<class 'pandas.core.frame.DataFrame'>\n",
      "RangeIndex: 10886 entries, 0 to 10885\n",
      "Data columns (total 15 columns):\n",
      " #   Column         Non-Null Count  Dtype   \n",
      "---  ------         --------------  -----   \n",
      " 0   datetime       10886 non-null  object  \n",
      " 1   season         10886 non-null  category\n",
      " 2   holiday        10886 non-null  category\n",
      " 3   workingday     10886 non-null  category\n",
      " 4   weather        10886 non-null  category\n",
      " 5   temp           10886 non-null  float64 \n",
      " 6   atemp          10886 non-null  float64 \n",
      " 7   humidity       10886 non-null  int64   \n",
      " 8   windspeed      10886 non-null  float64 \n",
      " 9   total_booking  10886 non-null  int64   \n",
      " 10  date           10886 non-null  object  \n",
      " 11  time           10886 non-null  object  \n",
      " 12  hour           10886 non-null  int64   \n",
      " 13  month          10886 non-null  int64   \n",
      " 14  weekday        10886 non-null  int64   \n",
      "dtypes: category(4), float64(3), int64(5), object(3)\n",
      "memory usage: 978.8+ KB\n",
      "<class 'pandas.core.frame.DataFrame'>\n",
      "RangeIndex: 10886 entries, 0 to 10885\n",
      "Data columns (total 15 columns):\n",
      " #   Column         Non-Null Count  Dtype   \n",
      "---  ------         --------------  -----   \n",
      " 0   datetime       10886 non-null  object  \n",
      " 1   season         10886 non-null  category\n",
      " 2   holiday        10886 non-null  category\n",
      " 3   workingday     10886 non-null  category\n",
      " 4   weather        10886 non-null  category\n",
      " 5   temp           10886 non-null  float64 \n",
      " 6   atemp          10886 non-null  float64 \n",
      " 7   humidity       10886 non-null  int64   \n",
      " 8   windspeed      10886 non-null  float64 \n",
      " 9   total_booking  10886 non-null  int64   \n",
      " 10  date           10886 non-null  object  \n",
      " 11  time           10886 non-null  object  \n",
      " 12  hour           10886 non-null  int64   \n",
      " 13  month          10886 non-null  int64   \n",
      " 14  weekday        10886 non-null  int64   \n",
      "dtypes: category(4), float64(3), int64(5), object(3)\n",
      "memory usage: 978.8+ KB\n",
      "<class 'pandas.core.frame.DataFrame'>\n",
      "RangeIndex: 10886 entries, 0 to 10885\n",
      "Data columns (total 15 columns):\n",
      " #   Column         Non-Null Count  Dtype   \n",
      "---  ------         --------------  -----   \n",
      " 0   datetime       10886 non-null  object  \n",
      " 1   season         10886 non-null  category\n",
      " 2   holiday        10886 non-null  category\n",
      " 3   workingday     10886 non-null  category\n",
      " 4   weather        10886 non-null  category\n",
      " 5   temp           10886 non-null  float64 \n",
      " 6   atemp          10886 non-null  float64 \n",
      " 7   humidity       10886 non-null  int64   \n",
      " 8   windspeed      10886 non-null  float64 \n",
      " 9   total_booking  10886 non-null  int64   \n",
      " 10  date           10886 non-null  object  \n",
      " 11  time           10886 non-null  object  \n",
      " 12  hour           10886 non-null  int64   \n",
      " 13  month          10886 non-null  int64   \n",
      " 14  weekday        10886 non-null  int64   \n",
      "dtypes: category(4), float64(3), int64(5), object(3)\n",
      "memory usage: 978.8+ KB\n",
      "<class 'pandas.core.frame.DataFrame'>\n",
      "RangeIndex: 10886 entries, 0 to 10885\n",
      "Data columns (total 15 columns):\n",
      " #   Column         Non-Null Count  Dtype   \n",
      "---  ------         --------------  -----   \n",
      " 0   datetime       10886 non-null  object  \n",
      " 1   season         10886 non-null  category\n",
      " 2   holiday        10886 non-null  category\n",
      " 3   workingday     10886 non-null  category\n",
      " 4   weather        10886 non-null  category\n",
      " 5   temp           10886 non-null  float64 \n",
      " 6   atemp          10886 non-null  float64 \n",
      " 7   humidity       10886 non-null  int64   \n",
      " 8   windspeed      10886 non-null  float64 \n",
      " 9   total_booking  10886 non-null  int64   \n",
      " 10  date           10886 non-null  object  \n",
      " 11  time           10886 non-null  object  \n",
      " 12  hour           10886 non-null  int64   \n",
      " 13  month          10886 non-null  int64   \n",
      " 14  weekday        10886 non-null  int64   \n",
      "dtypes: category(4), float64(3), int64(5), object(3)\n",
      "memory usage: 978.8+ KB\n"
     ]
    }
   ],
   "source": [
    "df_train=df_train.astype({\"season\":'category', \"holiday\":'category', \"workingday\":'category', \"weather\":'category'})\n",
    "for column in list(df_train.columns):\n",
    "    df_train.info()\n"
   ]
  },
  {
   "cell_type": "code",
   "execution_count": 6,
   "id": "62d3406f",
   "metadata": {},
   "outputs": [
    {
     "data": {
      "text/html": [
       "<div>\n",
       "<style scoped>\n",
       "    .dataframe tbody tr th:only-of-type {\n",
       "        vertical-align: middle;\n",
       "    }\n",
       "\n",
       "    .dataframe tbody tr th {\n",
       "        vertical-align: top;\n",
       "    }\n",
       "\n",
       "    .dataframe thead th {\n",
       "        text-align: right;\n",
       "    }\n",
       "</style>\n",
       "<table border=\"1\" class=\"dataframe\">\n",
       "  <thead>\n",
       "    <tr style=\"text-align: right;\">\n",
       "      <th></th>\n",
       "      <th>season</th>\n",
       "      <th>holiday</th>\n",
       "      <th>workingday</th>\n",
       "      <th>weather</th>\n",
       "      <th>temp</th>\n",
       "      <th>atemp</th>\n",
       "      <th>humidity</th>\n",
       "      <th>windspeed</th>\n",
       "      <th>total_booking</th>\n",
       "      <th>date</th>\n",
       "      <th>time</th>\n",
       "      <th>hour</th>\n",
       "      <th>month</th>\n",
       "      <th>weekday</th>\n",
       "    </tr>\n",
       "  </thead>\n",
       "  <tbody>\n",
       "    <tr>\n",
       "      <th>0</th>\n",
       "      <td>Summer</td>\n",
       "      <td>0</td>\n",
       "      <td>1</td>\n",
       "      <td>Clear + Few clouds</td>\n",
       "      <td>22.14</td>\n",
       "      <td>25.760</td>\n",
       "      <td>77</td>\n",
       "      <td>16.9979</td>\n",
       "      <td>504</td>\n",
       "      <td>2012-05-02</td>\n",
       "      <td>19:00:00</td>\n",
       "      <td>19</td>\n",
       "      <td>5</td>\n",
       "      <td>2</td>\n",
       "    </tr>\n",
       "    <tr>\n",
       "      <th>1</th>\n",
       "      <td>Fall</td>\n",
       "      <td>0</td>\n",
       "      <td>1</td>\n",
       "      <td>Clear + Few clouds</td>\n",
       "      <td>28.70</td>\n",
       "      <td>33.335</td>\n",
       "      <td>79</td>\n",
       "      <td>19.0012</td>\n",
       "      <td>5</td>\n",
       "      <td>2012-09-05</td>\n",
       "      <td>04:00:00</td>\n",
       "      <td>4</td>\n",
       "      <td>9</td>\n",
       "      <td>2</td>\n",
       "    </tr>\n",
       "    <tr>\n",
       "      <th>2</th>\n",
       "      <td>Spring</td>\n",
       "      <td>0</td>\n",
       "      <td>1</td>\n",
       "      <td>Clear + Few clouds</td>\n",
       "      <td>5.74</td>\n",
       "      <td>6.060</td>\n",
       "      <td>50</td>\n",
       "      <td>22.0028</td>\n",
       "      <td>139</td>\n",
       "      <td>2011-01-13</td>\n",
       "      <td>09:00:00</td>\n",
       "      <td>9</td>\n",
       "      <td>1</td>\n",
       "      <td>3</td>\n",
       "    </tr>\n",
       "    <tr>\n",
       "      <th>3</th>\n",
       "      <td>Winter</td>\n",
       "      <td>0</td>\n",
       "      <td>1</td>\n",
       "      <td>Clear + Few clouds</td>\n",
       "      <td>13.94</td>\n",
       "      <td>16.665</td>\n",
       "      <td>29</td>\n",
       "      <td>8.9981</td>\n",
       "      <td>209</td>\n",
       "      <td>2011-11-18</td>\n",
       "      <td>16:00:00</td>\n",
       "      <td>16</td>\n",
       "      <td>11</td>\n",
       "      <td>4</td>\n",
       "    </tr>\n",
       "    <tr>\n",
       "      <th>4</th>\n",
       "      <td>Fall</td>\n",
       "      <td>0</td>\n",
       "      <td>1</td>\n",
       "      <td>Clear + Few clouds</td>\n",
       "      <td>30.34</td>\n",
       "      <td>33.335</td>\n",
       "      <td>51</td>\n",
       "      <td>19.0012</td>\n",
       "      <td>184</td>\n",
       "      <td>2011-09-13</td>\n",
       "      <td>13:00:00</td>\n",
       "      <td>13</td>\n",
       "      <td>9</td>\n",
       "      <td>1</td>\n",
       "    </tr>\n",
       "  </tbody>\n",
       "</table>\n",
       "</div>"
      ],
      "text/plain": [
       "   season holiday workingday              weather   temp   atemp  humidity  \\\n",
       "0  Summer       0          1   Clear + Few clouds  22.14  25.760        77   \n",
       "1    Fall       0          1   Clear + Few clouds  28.70  33.335        79   \n",
       "2  Spring       0          1   Clear + Few clouds   5.74   6.060        50   \n",
       "3  Winter       0          1   Clear + Few clouds  13.94  16.665        29   \n",
       "4    Fall       0          1   Clear + Few clouds  30.34  33.335        51   \n",
       "\n",
       "   windspeed  total_booking        date      time  hour  month  weekday  \n",
       "0    16.9979            504  2012-05-02  19:00:00    19      5        2  \n",
       "1    19.0012              5  2012-09-05  04:00:00     4      9        2  \n",
       "2    22.0028            139  2011-01-13  09:00:00     9      1        3  \n",
       "3     8.9981            209  2011-11-18  16:00:00    16     11        4  \n",
       "4    19.0012            184  2011-09-13  13:00:00    13      9        1  "
      ]
     },
     "execution_count": 6,
     "metadata": {},
     "output_type": "execute_result"
    }
   ],
   "source": [
    "df_train.drop(columns=['datetime'],axis=1,inplace=True)\n",
    "df_train.head()"
   ]
  },
  {
   "cell_type": "markdown",
   "id": "cea84f90",
   "metadata": {},
   "source": [
    "Perform Outlier Analysis"
   ]
  },
  {
   "cell_type": "code",
   "execution_count": 7,
   "id": "bca8ad2c",
   "metadata": {},
   "outputs": [
    {
     "data": {
      "image/png": "[encoded data removed]",
      "text/plain": [
       "<Figure size 720x1080 with 1 Axes>"
      ]
     },
     "metadata": {
      "needs_background": "light"
     },
     "output_type": "display_data"
    }
   ],
   "source": [
    "df_train.boxplot(figsize=(10,15))\n",
    "plt.show()\n",
    "#Column 'windspeed' seems to have outliers"
   ]
  },
  {
   "cell_type": "code",
   "execution_count": 8,
   "id": "261bfef4",
   "metadata": {},
   "outputs": [],
   "source": [
    "Columntitle=['temp','atemp','humidity','windspeed']\n",
    "for x in Columntitle:\n",
    "    q75,q25 = np.percentile(df_train.loc[:,x],[75,25])\n",
    "    intr_qr = q75-q25\n",
    "    max = q75+(1.5*intr_qr)\n",
    "    min = q25-(1.5*intr_qr)\n",
    "\n",
    "    df_train.loc[df_train[x] < min,x] = np.nan\n",
    "    df_train.loc[df_train[x] > max,x] = np.nan"
   ]
  },
  {
   "cell_type": "code",
   "execution_count": 9,
   "id": "a24859fd",
   "metadata": {},
   "outputs": [
    {
     "data": {
      "text/plain": [
       "season             0\n",
       "holiday            0\n",
       "workingday         0\n",
       "weather            0\n",
       "temp               0\n",
       "atemp              0\n",
       "humidity          22\n",
       "windspeed        227\n",
       "total_booking      0\n",
       "date               0\n",
       "time               0\n",
       "hour               0\n",
       "month              0\n",
       "weekday            0\n",
       "dtype: int64"
      ]
     },
     "execution_count": 9,
     "metadata": {},
     "output_type": "execute_result"
    }
   ],
   "source": [
    "df_train.isnull().sum()"
   ]
  },
  {
   "cell_type": "code",
   "execution_count": 10,
   "id": "9e335d5e",
   "metadata": {},
   "outputs": [],
   "source": [
    "df_train = df_train.dropna(axis = 0)"
   ]
  },
  {
   "cell_type": "code",
   "execution_count": 11,
   "id": "780b9237",
   "metadata": {},
   "outputs": [
    {
     "data": {
      "text/plain": [
       "season           0\n",
       "holiday          0\n",
       "workingday       0\n",
       "weather          0\n",
       "temp             0\n",
       "atemp            0\n",
       "humidity         0\n",
       "windspeed        0\n",
       "total_booking    0\n",
       "date             0\n",
       "time             0\n",
       "hour             0\n",
       "month            0\n",
       "weekday          0\n",
       "dtype: int64"
      ]
     },
     "execution_count": 11,
     "metadata": {},
     "output_type": "execute_result"
    }
   ],
   "source": [
    "df_train.isnull().sum()"
   ]
  },
  {
   "cell_type": "markdown",
   "id": "a2b31c3a",
   "metadata": {},
   "source": [
    "Perform Correlation Analysis"
   ]
  },
  {
   "cell_type": "code",
   "execution_count": 12,
   "id": "5f17e322",
   "metadata": {},
   "outputs": [
    {
     "data": {
      "text/plain": [
       "<AxesSubplot:>"
      ]
     },
     "execution_count": 12,
     "metadata": {},
     "output_type": "execute_result"
    },
    {
     "data": {
      "image/png": "[encoded data removed]",
      "text/plain": [
       "<Figure size 432x288 with 2 Axes>"
      ]
     },
     "metadata": {
      "needs_background": "light"
     },
     "output_type": "display_data"
    }
   ],
   "source": [
    "correlation = df_train.corr()\n",
    "sns.heatmap(correlation, annot = True)\n",
    "#Total Booking is moderately correlated with temp and atemp"
   ]
  },
  {
   "cell_type": "code",
   "execution_count": 13,
   "id": "1c60a5fc",
   "metadata": {},
   "outputs": [
    {
     "data": {
      "text/plain": [
       "count    10638.000000\n",
       "mean       191.882685\n",
       "std        181.238751\n",
       "min          1.000000\n",
       "25%         42.000000\n",
       "50%        145.000000\n",
       "75%        285.000000\n",
       "max        977.000000\n",
       "Name: total_booking, dtype: float64"
      ]
     },
     "execution_count": 13,
     "metadata": {},
     "output_type": "execute_result"
    }
   ],
   "source": [
    "df_train['total_booking'].describe()"
   ]
  },
  {
   "cell_type": "markdown",
   "id": "4c353e79",
   "metadata": {},
   "source": [
    "Perform Data Visualization"
   ]
  },
  {
   "cell_type": "code",
   "execution_count": 14,
   "id": "25eed430",
   "metadata": {},
   "outputs": [
    {
     "data": {
      "image/png": "[encoded data removed]",
      "text/plain": [
       "<Figure size 432x288 with 1 Axes>"
      ]
     },
     "metadata": {
      "needs_background": "light"
     },
     "output_type": "display_data"
    }
   ],
   "source": [
    "ax = df_train['total_booking'].plot.kde()"
   ]
  },
  {
   "cell_type": "code",
   "execution_count": 15,
   "id": "76e45e5f",
   "metadata": {},
   "outputs": [
    {
     "data": {
      "image/png": "[encoded data removed]",
      "text/plain": [
       "<Figure size 432x288 with 1 Axes>"
      ]
     },
     "metadata": {
      "needs_background": "light"
     },
     "output_type": "display_data"
    },
    {
     "data": {
      "image/png": "[encoded data removed]",
      "text/plain": [
       "<Figure size 432x288 with 1 Axes>"
      ]
     },
     "metadata": {
      "needs_background": "light"
     },
     "output_type": "display_data"
    },
    {
     "data": {
      "image/png": "[encoded data removed]",
      "text/plain": [
       "<Figure size 432x288 with 1 Axes>"
      ]
     },
     "metadata": {
      "needs_background": "light"
     },
     "output_type": "display_data"
    },
    {
     "data": {
      "image/png": "[encoded data removed]",
      "text/plain": [
       "<Figure size 432x288 with 1 Axes>"
      ]
     },
     "metadata": {
      "needs_background": "light"
     },
     "output_type": "display_data"
    }
   ],
   "source": [
    "monthvsbooking = df_train.groupby([\"month\"])[\"total_booking\"].sum()\n",
    "monthvsbooking.plot.bar(color=\"blue\")\n",
    "plt.show()\n",
    "seasonvsbooking = df_train.groupby([\"season\"])[\"total_booking\"].sum()\n",
    "seasonvsbooking.plot.bar(color=\"blue\")\n",
    "plt.show()\n",
    "hourvsbooking = df_train.groupby([\"hour\"])[\"total_booking\"].sum()\n",
    "hourvsbooking.plot.bar(color=\"blue\")\n",
    "plt.show()\n",
    "weekdayvsbooking = df_train.groupby([\"weekday\"])[\"total_booking\"].sum()\n",
    "weekdayvsbooking.plot.bar(color=\"blue\")\n",
    "plt.show()"
   ]
  },
  {
   "cell_type": "code",
   "execution_count": 16,
   "id": "277867c2",
   "metadata": {},
   "outputs": [
    {
     "name": "stderr",
     "output_type": "stream",
     "text": [
      "C:\\Users\\Admin\\anaconda3\\lib\\site-packages\\seaborn\\distributions.py:2619: FutureWarning: `distplot` is a deprecated function and will be removed in a future version. Please adapt your code to use either `displot` (a figure-level function with similar flexibility) or `histplot` (an axes-level function for histograms).\n",
      "  warnings.warn(msg, FutureWarning)\n"
     ]
    },
    {
     "data": {
      "image/png": "[encoded data removed]",
      "text/plain": [
       "<Figure size 432x288 with 1 Axes>"
      ]
     },
     "metadata": {},
     "output_type": "display_data"
    },
    {
     "data": {
      "image/png": "[encoded data removed]",
      "text/plain": [
       "<Figure size 432x288 with 1 Axes>"
      ]
     },
     "metadata": {},
     "output_type": "display_data"
    },
    {
     "data": {
      "image/png": "[encoded data removed]",
      "text/plain": [
       "<Figure size 432x288 with 1 Axes>"
      ]
     },
     "metadata": {},
     "output_type": "display_data"
    },
    {
     "data": {
      "image/png": "[encoded data removed]",
      "text/plain": [
       "<Figure size 432x288 with 1 Axes>"
      ]
     },
     "metadata": {},
     "output_type": "display_data"
    }
   ],
   "source": [
    "sns.set()\n",
    "sns.distplot(df_train['temp'], kde = False)\n",
    "plt.show() \n",
    "sns.distplot(df_train['atemp'], kde = False)\n",
    "plt.show() \n",
    "sns.distplot(df_train['humidity'], kde = False)\n",
    "plt.show() \n",
    "sns.distplot(df_train['windspeed'], kde = False)\n",
    "plt.show() \n"
   ]
  },
  {
   "cell_type": "markdown",
   "id": "a099a15b",
   "metadata": {},
   "source": [
    "Convert the categorical variables into one hot vector"
   ]
  },
  {
   "cell_type": "code",
   "execution_count": 17,
   "id": "0d66e752",
   "metadata": {},
   "outputs": [
    {
     "data": {
      "text/html": [
       "<div>\n",
       "<style scoped>\n",
       "    .dataframe tbody tr th:only-of-type {\n",
       "        vertical-align: middle;\n",
       "    }\n",
       "\n",
       "    .dataframe tbody tr th {\n",
       "        vertical-align: top;\n",
       "    }\n",
       "\n",
       "    .dataframe thead th {\n",
       "        text-align: right;\n",
       "    }\n",
       "</style>\n",
       "<table border=\"1\" class=\"dataframe\">\n",
       "  <thead>\n",
       "    <tr style=\"text-align: right;\">\n",
       "      <th></th>\n",
       "      <th>total_booking</th>\n",
       "      <th>Fall</th>\n",
       "      <th>Spring</th>\n",
       "      <th>Summer</th>\n",
       "      <th>Winter</th>\n",
       "      <th>Clear + Few clouds</th>\n",
       "      <th>Heavy Rain + Thunderstorm</th>\n",
       "      <th>Light Snow, Light Rain</th>\n",
       "      <th>Mist + Cloudy</th>\n",
       "    </tr>\n",
       "  </thead>\n",
       "  <tbody>\n",
       "    <tr>\n",
       "      <th>0</th>\n",
       "      <td>504</td>\n",
       "      <td>0</td>\n",
       "      <td>0</td>\n",
       "      <td>1</td>\n",
       "      <td>0</td>\n",
       "      <td>1</td>\n",
       "      <td>0</td>\n",
       "      <td>0</td>\n",
       "      <td>0</td>\n",
       "    </tr>\n",
       "    <tr>\n",
       "      <th>1</th>\n",
       "      <td>5</td>\n",
       "      <td>1</td>\n",
       "      <td>0</td>\n",
       "      <td>0</td>\n",
       "      <td>0</td>\n",
       "      <td>1</td>\n",
       "      <td>0</td>\n",
       "      <td>0</td>\n",
       "      <td>0</td>\n",
       "    </tr>\n",
       "    <tr>\n",
       "      <th>2</th>\n",
       "      <td>139</td>\n",
       "      <td>0</td>\n",
       "      <td>1</td>\n",
       "      <td>0</td>\n",
       "      <td>0</td>\n",
       "      <td>1</td>\n",
       "      <td>0</td>\n",
       "      <td>0</td>\n",
       "      <td>0</td>\n",
       "    </tr>\n",
       "    <tr>\n",
       "      <th>3</th>\n",
       "      <td>209</td>\n",
       "      <td>0</td>\n",
       "      <td>0</td>\n",
       "      <td>0</td>\n",
       "      <td>1</td>\n",
       "      <td>1</td>\n",
       "      <td>0</td>\n",
       "      <td>0</td>\n",
       "      <td>0</td>\n",
       "    </tr>\n",
       "    <tr>\n",
       "      <th>4</th>\n",
       "      <td>184</td>\n",
       "      <td>1</td>\n",
       "      <td>0</td>\n",
       "      <td>0</td>\n",
       "      <td>0</td>\n",
       "      <td>1</td>\n",
       "      <td>0</td>\n",
       "      <td>0</td>\n",
       "      <td>0</td>\n",
       "    </tr>\n",
       "  </tbody>\n",
       "</table>\n",
       "</div>"
      ],
      "text/plain": [
       "   total_booking  Fall  Spring  Summer  Winter   Clear + Few clouds  \\\n",
       "0            504     0       0       1       0                    1   \n",
       "1              5     1       0       0       0                    1   \n",
       "2            139     0       1       0       0                    1   \n",
       "3            209     0       0       0       1                    1   \n",
       "4            184     1       0       0       0                    1   \n",
       "\n",
       "    Heavy Rain + Thunderstorm    Light Snow, Light Rain   Mist + Cloudy   \n",
       "0                            0                        0                0  \n",
       "1                            0                        0                0  \n",
       "2                            0                        0                0  \n",
       "3                            0                        0                0  \n",
       "4                            0                        0                0  "
      ]
     },
     "execution_count": 17,
     "metadata": {},
     "output_type": "execute_result"
    }
   ],
   "source": [
    "import pandas as pd\n",
    "encode=pd.DataFrame(df_train['total_booking'])\n",
    "dummies1 = pd.get_dummies(df_train.season)\n",
    "encode=encode.join(dummies1)\n",
    "dummies2 = pd.get_dummies(df_train.weather)\n",
    "encode=encode.join(dummies2)\n",
    "encode.head()"
   ]
  },
  {
   "cell_type": "markdown",
   "id": "1e1b96f3",
   "metadata": {},
   "source": [
    "Split your dataset for training and testing"
   ]
  },
  {
   "cell_type": "code",
   "execution_count": 18,
   "id": "fafb8f1e",
   "metadata": {},
   "outputs": [],
   "source": [
    "from sklearn.model_selection import train_test_split\n",
    "X=encode.drop(['total_booking'], axis=1)\n",
    "y=encode.total_booking\n",
    "X_train, X_test, y_train, y_test = train_test_split(X,y, random_state=5, test_size=0.2)"
   ]
  },
  {
   "cell_type": "markdown",
   "id": "067a113a",
   "metadata": {},
   "source": [
    "Fit various models"
   ]
  },
  {
   "cell_type": "code",
   "execution_count": 26,
   "id": "656f66c2",
   "metadata": {},
   "outputs": [],
   "source": [
    "from sklearn.ensemble import RandomForestClassifier\n",
    "from sklearn.ensemble import AdaBoostClassifier\n",
    "from sklearn.ensemble import BaggingClassifier\n",
    "from sklearn.svm import SVC\n",
    "from sklearn.neighbors import KNeighborsClassifier\n",
    "from sklearn.metrics import r2_score,mean_squared_error, mean_absolute_error"
   ]
  },
  {
   "cell_type": "code",
   "execution_count": 27,
   "id": "b9f704c3",
   "metadata": {},
   "outputs": [],
   "source": [
    "model_rf = RandomForestClassifier(n_estimators=100, n_jobs=-1, random_state=7)\n",
    "model_rf.fit(X_train,y_train)\n",
    "y_pred_rf = model_rf.predict(X_test)\n",
    "rf_rsme = mean_squared_error(y_test,y_pred_rf,squared=False)"
   ]
  },
  {
   "cell_type": "code",
   "execution_count": 28,
   "id": "daff1506",
   "metadata": {},
   "outputs": [],
   "source": [
    "ada=AdaBoostClassifier(n_estimators =100, learning_rate=0.6)\n",
    "ada.fit(X_train, y_train)\n",
    "y_pred_ada = ada.predict(X_test)\n",
    "ada_rsme = mean_squared_error(y_test,y_pred_ada,squared=False)"
   ]
  },
  {
   "cell_type": "code",
   "execution_count": 34,
   "id": "9abb2039",
   "metadata": {},
   "outputs": [],
   "source": [
    "model_bag = BaggingClassifier()\n",
    "model_bag.fit(X_train, y_train)\n",
    "y_pred_bag = model_bag.predict(X_test)\n",
    "bag_rsme = mean_squared_error(y_test,y_pred_bag,squared=False)"
   ]
  },
  {
   "cell_type": "code",
   "execution_count": 29,
   "id": "5a015a00",
   "metadata": {},
   "outputs": [],
   "source": [
    "model_rbf=SVC(kernel='rbf')\n",
    "model_rbf.fit(X_train, y_train)\n",
    "y_pred_rbf = model_rbf.predict(X_test)\n",
    "rbf_rsme = mean_squared_error(y_test,y_pred_rbf,squared=False)"
   ]
  },
  {
   "cell_type": "code",
   "execution_count": 30,
   "id": "1a990a1a",
   "metadata": {},
   "outputs": [],
   "source": [
    "knn = KNeighborsClassifier(n_neighbors=7)  \n",
    "knn.fit(X_train, y_train)\n",
    "y_pred_knn = knn.predict(X_test)\n",
    "knn_rsme = mean_squared_error(y_test,y_pred_knn,squared=False)"
   ]
  },
  {
   "cell_type": "code",
   "execution_count": 36,
   "id": "6c156aff",
   "metadata": {},
   "outputs": [],
   "source": [
    "models = {'Model': ['Random Forest', 'adaboost', 'Bagging', 'SVC','knn'], 'RSME': [rf_rsme, ada_rsme, bag_rsme, rbf_rsme, knn_rsme]}\n",
    "models_df = pd.DataFrame(models)"
   ]
  },
  {
   "cell_type": "markdown",
   "id": "5b49561a",
   "metadata": {},
   "source": [
    "Display a Factor plot"
   ]
  },
  {
   "cell_type": "code",
   "execution_count": 39,
   "id": "6c0b27f2",
   "metadata": {},
   "outputs": [
    {
     "name": "stderr",
     "output_type": "stream",
     "text": [
      "C:\\Users\\Admin\\anaconda3\\lib\\site-packages\\seaborn\\categorical.py:3717: UserWarning: The `factorplot` function has been renamed to `catplot`. The original name will be removed in a future release. Please update your code. Note that the default `kind` in `factorplot` (`'point'`) has changed `'strip'` in `catplot`.\n",
      "  warnings.warn(msg)\n"
     ]
    },
    {
     "data": {
      "image/png": "[encoded data removed]",
      "text/plain": [
       "<Figure size 360x360 with 1 Axes>"
      ]
     },
     "metadata": {},
     "output_type": "display_data"
    }
   ],
   "source": [
    "import matplotlib.pyplot as plt\n",
    "sns.factorplot(x ='Model', y ='RSME', data = models_df)\n",
    "plt.show()"
   ]
  },
  {
   "cell_type": "markdown",
   "id": "44994f8f",
   "metadata": {},
   "source": [
    "Perform Hyper-parameter tuning"
   ]
  },
  {
   "cell_type": "code",
   "execution_count": 42,
   "id": "6a8d9f04",
   "metadata": {},
   "outputs": [
    {
     "name": "stdout",
     "output_type": "stream",
     "text": [
      "Fitting 5 folds for each of 6 candidates, totalling 30 fits\n"
     ]
    },
    {
     "name": "stderr",
     "output_type": "stream",
     "text": [
      "C:\\Users\\Admin\\anaconda3\\lib\\site-packages\\sklearn\\model_selection\\_split.py:676: UserWarning: The least populated class in y has only 1 members, which is less than n_splits=5.\n",
      "  warnings.warn(\n",
      "C:\\Users\\Admin\\anaconda3\\lib\\site-packages\\sklearn\\model_selection\\_search.py:969: UserWarning: One or more of the test scores are non-finite: [nan nan nan nan nan nan]\n",
      "  warnings.warn(\n",
      "C:\\Users\\Admin\\anaconda3\\lib\\site-packages\\sklearn\\model_selection\\_search.py:969: UserWarning: One or more of the train scores are non-finite: [nan nan nan nan nan nan]\n",
      "  warnings.warn(\n"
     ]
    },
    {
     "data": {
      "text/plain": [
       "GridSearchCV(cv=5,\n",
       "             estimator=AdaBoostClassifier(learning_rate=0.6, n_estimators=100),\n",
       "             n_jobs=-1,\n",
       "             param_grid={'learning_rate': [0.65, 0.7, 0.75],\n",
       "                         'n_estimators': [100, 100]},\n",
       "             return_train_score=True, scoring='recall', verbose=True)"
      ]
     },
     "execution_count": 42,
     "metadata": {},
     "output_type": "execute_result"
    }
   ],
   "source": [
    "from sklearn.model_selection import GridSearchCV\n",
    "model_params = {'learning_rate':[0.65,0.70,0.75], 'n_estimators':[100,100]}\n",
    "model_cv = GridSearchCV(ada,model_params,cv=5,n_jobs=-1,verbose=True,return_train_score = True,scoring = 'recall')\n",
    "model_cv.fit(X_train,y_train)"
   ]
  },
  {
   "cell_type": "code",
   "execution_count": 43,
   "id": "0673982f",
   "metadata": {},
   "outputs": [
    {
     "data": {
      "text/plain": [
       "{'learning_rate': 0.65, 'n_estimators': 100}"
      ]
     },
     "execution_count": 43,
     "metadata": {},
     "output_type": "execute_result"
    }
   ],
   "source": [
    "model_cv.best_params_"
   ]
  },
  {
   "cell_type": "markdown",
   "id": "625ad2ec",
   "metadata": {},
   "source": [
    "Perform prediction on the test set"
   ]
  },
  {
   "cell_type": "code",
   "execution_count": 45,
   "id": "090adc86",
   "metadata": {},
   "outputs": [
    {
     "data": {
      "text/plain": [
       "343.9867510071006"
      ]
     },
     "execution_count": 45,
     "metadata": {},
     "output_type": "execute_result"
    }
   ],
   "source": [
    "y_pred_cv = model_cv.predict(X_test)\n",
    "RSME = mean_squared_error(y_test,y_pred_cv,squared=False)\n",
    "RSME"
   ]
  },
  {
   "cell_type": "code",
   "execution_count": null,
   "id": "8dae5b33",
   "metadata": {},
   "outputs": [],
   "source": []
  }
 ],
 "metadata": {
  "kernelspec": {
   "display_name": "Python 3 (ipykernel)",
   "language": "python",
   "name": "python3"
  },
  "language_info": {
   "codemirror_mode": {
    "name": "ipython",
    "version": 3
   },
   "file_extension": ".py",
   "mimetype": "text/x-python",
   "name": "python",
   "nbconvert_exporter": "python",
   "pygments_lexer": "ipython3",
   "version": "3.9.12"
  }
 },
 "nbformat": 4,
 "nbformat_minor": 5
}
